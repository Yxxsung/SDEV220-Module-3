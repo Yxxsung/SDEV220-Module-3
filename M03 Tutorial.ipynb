{
 "cells": [
  {
   "cell_type": "code",
   "execution_count": null,
   "id": "2dd1edd5-2b00-4c64-8250-512d09201a0f",
   "metadata": {},
   "outputs": [],
   "source": [
    "class Solution:\n",
    "    #sorts arrays made up of 0s 1s and 2s\n",
    "    def sort012(self,arr,n):\n",
    "        \n",
    "        low = 0\n",
    "        \n",
    "        high = n-1\n",
    "        \n",
    "        middle = 0"
   ]
  },
  {
   "cell_type": "code",
   "execution_count": null,
   "id": "512e9132-3881-4fad-b49c-9d1344b1c697",
   "metadata": {},
   "outputs": [],
   "source": [
    "#continues iterating until middle is <= high\n",
    "        while middle<=high:\n",
    "            #if element at middle is 0, then swap it with low and move both pointers\n",
    "            if arr[middle]==0:\n",
    "                \n",
    "                arr[middle] , arr[low] = arr [low] , arr[middle]\n",
    "                \n",
    "                middle+=1\n",
    "                \n",
    "                low+=1\n"
   ]
  },
  {
   "cell_type": "code",
   "execution_count": null,
   "id": "5c5d166f-3fcf-454a-a4c1-3c347fd75e60",
   "metadata": {},
   "outputs": [],
   "source": [
    "#if middle is 1, move pointer\n",
    "            elif arr[middle]==1:\n",
    "                \n",
    "                middle+=1\n",
    "                \n",
    "            #if middle is at 2, swap with high and move high pointer\n",
    "            else:\n",
    "                arr[middle], arr[high] = arr[high] , arr[middle]\n",
    "                high-=1"
   ]
  },
  {
   "cell_type": "markdown",
   "id": "51b1a32f-854b-4bde-a596-d2702498f3f4",
   "metadata": {},
   "source": [
    "In theory these cells combine to form a function that sorts numbers in an array"
   ]
  },
  {
   "cell_type": "markdown",
   "id": "ce633490-4ddc-4e1e-96e0-600b720ec0d4",
   "metadata": {},
   "source": [
    "The below cells combine to "
   ]
  },
  {
   "cell_type": "code",
   "execution_count": null,
   "id": "30a6e8e5-2bef-4794-9fe4-2e0608d14b0b",
   "metadata": {},
   "outputs": [],
   "source": [
    "def binarySearch(arr, l, r, x):\n",
    "\n",
    "    #checks the base case\n",
    "    if r >= l:\n",
    "\n",
    "        middle = l + (r - l) // 2\n",
    "\n",
    "    #if the element is smaller than middle, then if can only be present in left subarray\n",
    "    elif arr[middle] > x:\n",
    "        return binarySearch(arr, l, middle-1, x)\n",
    "\n",
    "    #Else the element can only be in the correct subarray\n",
    "    else:\n",
    "        return binarySearch(arr, middle + 1, r, x)\n",
    "\n",
    "else:\n",
    "    #element is not present at all\n",
    "    return -1\n",
    "\n",
    "#driver code\n",
    "arr = [2, 3, 4, 10, 40]\n",
    "x = 10\n",
    "\n",
    "#Function Cell\n",
    "result = binarySearch(arr, 0, len(arr)-1, x)\n",
    "\n",
    "if result != -1:\n",
    "    print(\"The element is in the array at index % d\" % result)\n",
    "\n",
    "else:\n",
    "    print(\"Element is not in the array at all\")\n",
    "                "
   ]
  }
 ],
 "metadata": {
  "kernelspec": {
   "display_name": "Python 3 (ipykernel)",
   "language": "python",
   "name": "python3"
  },
  "language_info": {
   "codemirror_mode": {
    "name": "ipython",
    "version": 3
   },
   "file_extension": ".py",
   "mimetype": "text/x-python",
   "name": "python",
   "nbconvert_exporter": "python",
   "pygments_lexer": "ipython3",
   "version": "3.11.7"
  }
 },
 "nbformat": 4,
 "nbformat_minor": 5
}
