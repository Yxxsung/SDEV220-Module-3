{
 "cells": [
  {
   "cell_type": "markdown",
   "metadata": {},
   "source": [
    "Complete 7.4-7.7 and 9.1-9.2 in the text book then submit"
   ]
  },
  {
   "cell_type": "code",
   "execution_count": 2,
   "metadata": {},
   "outputs": [],
   "source": [
    "things = [\"mozzarella\",\"cinderella\",\"salmonella\"]\n",
    "#this is a list"
   ]
  },
  {
   "cell_type": "code",
   "execution_count": 1,
   "metadata": {},
   "outputs": [
    {
     "name": "stdout",
     "output_type": "stream",
     "text": [
      "['mozzarella', 'Cinderella', 'salmonella']\n"
     ]
    }
   ],
   "source": [
    "things = [\"mozzarella\",\"Cinderella\",\"salmonella\"]\n",
    "print(things)\n",
    "#capitalizing the C in cinderella changed it in the print out to"
   ]
  },
  {
   "cell_type": "code",
   "execution_count": 3,
   "metadata": {},
   "outputs": [
    {
     "name": "stdout",
     "output_type": "stream",
     "text": [
      "['MOZZARELLA', 'Cinderella', 'salmonella']\n"
     ]
    }
   ],
   "source": [
    "things = [\"MOZZARELLA\",\"Cinderella\", \"salmonella\"]\n",
    "print(things)\n",
    "#making mozarella all caps changed it in the print out"
   ]
  },
  {
   "cell_type": "code",
   "execution_count": 4,
   "metadata": {},
   "outputs": [
    {
     "name": "stdout",
     "output_type": "stream",
     "text": [
      "['mozzarella', 'Cinderella']\n"
     ]
    }
   ],
   "source": [
    "things = [\"mozzarella\",\"Cinderella\"]\n",
    "print(things)\n",
    "#it also said to take my nobel prize, but I have no idea what that is supposed to mean"
   ]
  },
  {
   "cell_type": "code",
   "execution_count": 5,
   "metadata": {},
   "outputs": [],
   "source": [
    "def good():\n",
    "    HPChar = [\"Harry\", \"Ron\", \"Hermione\"]"
   ]
  },
  {
   "cell_type": "code",
   "execution_count": 8,
   "metadata": {},
   "outputs": [],
   "source": [
    "def get_odds(count = 0, number = 0):\n",
    "    for number in range(1, 10, 2):\n",
    "        if count == 3:\n",
    "            if count == 3:\n",
    "                print(\"The third odd number is\", number)\n",
    "                break\n",
    "            count += 1"
   ]
  },
  {
   "cell_type": "markdown",
   "metadata": {},
   "source": [
    "The above code should print the third odd number in a range of 10. I didn't quite understand this one and struggled to find help on W3 schools,\n",
    "where I normally go, so I had to look at the solutions in the text book for help. I don't really understand why the range parameters are 1 10 and 2,\n",
    "but I will have to re-read the chapter and do some more research to better understand."
   ]
  }
 ],
 "metadata": {
  "kernelspec": {
   "display_name": "Python 3",
   "language": "python",
   "name": "python3"
  },
  "language_info": {
   "codemirror_mode": {
    "name": "ipython",
    "version": 3
   },
   "file_extension": ".py",
   "mimetype": "text/x-python",
   "name": "python",
   "nbconvert_exporter": "python",
   "pygments_lexer": "ipython3",
   "version": "3.12.2"
  }
 },
 "nbformat": 4,
 "nbformat_minor": 2
}
